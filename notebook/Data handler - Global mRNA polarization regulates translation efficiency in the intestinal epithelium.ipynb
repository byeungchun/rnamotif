{
 "cells": [
  {
   "cell_type": "code",
   "execution_count": 1,
   "metadata": {},
   "outputs": [],
   "source": [
    "%load_ext autoreload\n",
    "%autoreload 2"
   ]
  },
  {
   "cell_type": "code",
   "execution_count": 4,
   "metadata": {},
   "outputs": [],
   "source": [
    "import os\n",
    "import json\n",
    "import time\n",
    "import requests, sys"
   ]
  },
  {
   "cell_type": "code",
   "execution_count": 5,
   "metadata": {},
   "outputs": [],
   "source": [
    "os.chdir('..')"
   ]
  },
  {
   "cell_type": "code",
   "execution_count": 35,
   "metadata": {},
   "outputs": [],
   "source": [
    "import pandas as pd\n",
    "from rnamotif.connectors.get_ensembl import get_ensembl_seq_by_gene\n",
    "from rnamotif.utility.ensembl_rna_handler import save_one_fasta_from_ensembl_api_return"
   ]
  },
  {
   "cell_type": "code",
   "execution_count": 6,
   "metadata": {},
   "outputs": [],
   "source": [
    "import warnings\n",
    "warnings.filterwarnings('ignore')"
   ]
  },
  {
   "cell_type": "markdown",
   "metadata": {},
   "source": [
    "#### Download sequence from Ensembl"
   ]
  },
  {
   "cell_type": "code",
   "execution_count": 7,
   "metadata": {},
   "outputs": [],
   "source": [
    "df_s1 = pd.read_excel(os.path.join(os.path.abspath(r'./samples'),r'aan2399_table_S1.xlsx'))"
   ]
  },
  {
   "cell_type": "code",
   "execution_count": 15,
   "metadata": {},
   "outputs": [],
   "source": [
    "lst_gene = list(df_s1['target_id'])"
   ]
  },
  {
   "cell_type": "code",
   "execution_count": null,
   "metadata": {},
   "outputs": [],
   "source": [
    "res = get_ensembl_seq_by_gene(lst_gene,seq_type='cds',is_ssl_verification=False)"
   ]
  },
  {
   "cell_type": "code",
   "execution_count": 19,
   "metadata": {},
   "outputs": [
    {
     "name": "stdout",
     "output_type": "stream",
     "text": [
      "FASTA file: D:\\workspace\\rnamotif\\samples\\s1_cds_1.fasta\n"
     ]
    },
    {
     "data": {
      "text/plain": [
       "True"
      ]
     },
     "execution_count": 19,
     "metadata": {},
     "output_type": "execute_result"
    }
   ],
   "source": [
    "save_one_fasta_from_ensembl_api_return(os.path.abspath(r'./samples'), 's1_cds.fasta', res1)"
   ]
  },
  {
   "cell_type": "markdown",
   "metadata": {},
   "source": [
    "#### Load Fasta file"
   ]
  },
  {
   "cell_type": "code",
   "execution_count": 11,
   "metadata": {},
   "outputs": [],
   "source": [
    "cdna_file = os.path.join(os.path.abspath(r'./samples'), 's1_cdna.fasta')\n",
    "cds_file = os.path.join(os.path.abspath(r'./samples'), 's1_cds.fasta')\n",
    "cdna_zipfile = os.path.join(os.path.abspath(r'./samples'), 's1_cdna.zip')\n",
    "cds_zipfile = os.path.join(os.path.abspath(r'./samples'), 's1_cds.zip')"
   ]
  },
  {
   "cell_type": "code",
   "execution_count": 29,
   "metadata": {},
   "outputs": [],
   "source": [
    "with open(cdna_file, 'r') as fin:\n",
    "    cdna_data = fin.read().splitlines()\n",
    "\n",
    "with open(cds_file, 'r') as fin:\n",
    "    cds_data = fin.read().splitlines()"
   ]
  },
  {
   "cell_type": "code",
   "execution_count": 8,
   "metadata": {},
   "outputs": [],
   "source": [
    "from zipfile import ZipFile"
   ]
  },
  {
   "cell_type": "code",
   "execution_count": 16,
   "metadata": {},
   "outputs": [],
   "source": [
    "with ZipFile(cdna_zipfile, 'r') as zip_ref:\n",
    "    zip_ref.extract(os.path.basename(cdna_file),os.path.dirname(cdna_file))\n",
    "\n",
    "with ZipFile(cds_zipfile, 'r') as zip_ref:\n",
    "    zip_ref.extract(os.path.basename(cds_file),os.path.dirname(cds_file))"
   ]
  },
  {
   "cell_type": "code",
   "execution_count": 17,
   "metadata": {},
   "outputs": [],
   "source": [
    "from Bio import SeqIO"
   ]
  },
  {
   "cell_type": "code",
   "execution_count": 26,
   "metadata": {},
   "outputs": [],
   "source": [
    "dic_cds = dict()\n",
    "with open(cds_file, \"r\") as fin:\n",
    "    for rec in SeqIO.parse(fin, \"fasta\"):\n",
    "        dic_cds[rec.id] =rec"
   ]
  },
  {
   "cell_type": "code",
   "execution_count": 27,
   "metadata": {},
   "outputs": [],
   "source": [
    "dic_cdna = dict()\n",
    "with open(cdna_file, \"r\") as fin:\n",
    "    for rec in SeqIO.parse(fin, \"fasta\"):\n",
    "        dic_cdna[rec.id] =rec"
   ]
  },
  {
   "cell_type": "markdown",
   "metadata": {},
   "source": [
    "#### Extract 3'UTR "
   ]
  },
  {
   "cell_type": "code",
   "execution_count": 68,
   "metadata": {},
   "outputs": [],
   "source": [
    "from Bio.Seq import Seq"
   ]
  },
  {
   "cell_type": "code",
   "execution_count": 76,
   "metadata": {},
   "outputs": [
    {
     "name": "stdout",
     "output_type": "stream",
     "text": [
      "# CDNA: 9858, # CDS: 7784, # mismatch: 235, # errfind: 0, # UTR3: 7549\n"
     ]
    }
   ],
   "source": [
    "mismatch = list()\n",
    "errfind = list()\n",
    "dic_utr3 = dict()\n",
    "for cdskey in dic_cds:\n",
    "    _cds = dic_cds.get(cdskey)\n",
    "    _cdna = dic_cdna.get(cdskey)\n",
    "    start_ix = _cdna.seq.find(_cds.seq)\n",
    "    if start_ix < 0:\n",
    "        mismatch.append(cdskey)\n",
    "    else:\n",
    "        _utr3 = _cdna.seq[start_ix + len(_cds.seq):]\n",
    "        # It should be Zero\n",
    "        length_verified = len(_cdna.seq) - start_ix - len(_cds.seq) - len(_utr3)\n",
    "        if length_verified != 0:\n",
    "            errfind.append((cdskey, length_verified))\n",
    "        else:\n",
    "            dic_utr3[cdskey] = _utr3\n",
    "print(f'# CDNA: {len(dic_cdna)}, # CDS: {len(dic_cds)}, # mismatch: {len(mismatch)}, # errfind: {len(errfind)}, # UTR3: {len(dic_utr3)}')"
   ]
  },
  {
   "cell_type": "markdown",
   "metadata": {},
   "source": [
    "#### Example: Mismatch"
   ]
  },
  {
   "cell_type": "code",
   "execution_count": 54,
   "metadata": {},
   "outputs": [
    {
     "name": "stdout",
     "output_type": "stream",
     "text": [
      "https://rest.ensembl.org/sequence/id/ENSMUST00000178282?type=cds\n"
     ]
    }
   ],
   "source": [
    "print('https://rest.ensembl.org/sequence/id/ENSMUST00000178282?type=cds')"
   ]
  },
  {
   "cell_type": "code",
   "execution_count": 55,
   "metadata": {},
   "outputs": [
    {
     "name": "stdout",
     "output_type": "stream",
     "text": [
      "https://rest.ensembl.org/sequence/id/ENSMUST00000178282?type=cdna\n"
     ]
    }
   ],
   "source": [
    "print('https://rest.ensembl.org/sequence/id/ENSMUST00000178282?type=cdna')"
   ]
  },
  {
   "cell_type": "code",
   "execution_count": null,
   "metadata": {},
   "outputs": [],
   "source": []
  }
 ],
 "metadata": {
  "kernelspec": {
   "display_name": "Python 3",
   "language": "python",
   "name": "python3"
  },
  "language_info": {
   "codemirror_mode": {
    "name": "ipython",
    "version": 3
   },
   "file_extension": ".py",
   "mimetype": "text/x-python",
   "name": "python",
   "nbconvert_exporter": "python",
   "pygments_lexer": "ipython3",
   "version": "3.8.2"
  }
 },
 "nbformat": 4,
 "nbformat_minor": 4
}
