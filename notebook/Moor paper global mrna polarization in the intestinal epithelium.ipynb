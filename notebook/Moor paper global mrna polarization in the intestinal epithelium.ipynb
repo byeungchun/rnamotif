{
 "cells": [
  {
   "cell_type": "code",
   "execution_count": 7,
   "id": "serial-beauty",
   "metadata": {},
   "outputs": [],
   "source": [
    "import os\n",
    "import pandas as pd\n",
    "\n",
    "from Bio import SeqIO\n",
    "from zipfile import ZipFile"
   ]
  },
  {
   "cell_type": "code",
   "execution_count": 2,
   "id": "commercial-scratch",
   "metadata": {},
   "outputs": [],
   "source": [
    "file_highly_expressed = r'../samples/moor_s1_highly_expressed_transcript.tsv'"
   ]
  },
  {
   "cell_type": "code",
   "execution_count": 3,
   "id": "clean-field",
   "metadata": {},
   "outputs": [],
   "source": [
    "df = pd.read_csv(file_highly_expressed, delimiter='\\t')"
   ]
  },
  {
   "cell_type": "code",
   "execution_count": 4,
   "id": "binding-hamburg",
   "metadata": {},
   "outputs": [
    {
     "data": {
      "text/html": [
       "<div>\n",
       "<style scoped>\n",
       "    .dataframe tbody tr th:only-of-type {\n",
       "        vertical-align: middle;\n",
       "    }\n",
       "\n",
       "    .dataframe tbody tr th {\n",
       "        vertical-align: top;\n",
       "    }\n",
       "\n",
       "    .dataframe thead th {\n",
       "        text-align: right;\n",
       "    }\n",
       "</style>\n",
       "<table border=\"1\" class=\"dataframe\">\n",
       "  <thead>\n",
       "    <tr style=\"text-align: right;\">\n",
       "      <th></th>\n",
       "      <th>Target ID</th>\n",
       "      <th>Gene Name</th>\n",
       "      <th>Measure Names</th>\n",
       "      <th>Qval Color</th>\n",
       "      <th>Number of target</th>\n",
       "      <th>Measure Values</th>\n",
       "    </tr>\n",
       "  </thead>\n",
       "  <tbody>\n",
       "    <tr>\n",
       "      <th>0</th>\n",
       "      <td>ENSMUST00000000090</td>\n",
       "      <td>Cox5a</td>\n",
       "      <td>Apical Bias</td>\n",
       "      <td>Red</td>\n",
       "      <td>598</td>\n",
       "      <td>0.254249</td>\n",
       "    </tr>\n",
       "    <tr>\n",
       "      <th>1</th>\n",
       "      <td>ENSMUST00000000312</td>\n",
       "      <td>Cdh1</td>\n",
       "      <td>Apical Bias</td>\n",
       "      <td>Red</td>\n",
       "      <td>598</td>\n",
       "      <td>1.540903</td>\n",
       "    </tr>\n",
       "  </tbody>\n",
       "</table>\n",
       "</div>"
      ],
      "text/plain": [
       "            Target ID Gene Name Measure Names Qval Color  Number of target  \\\n",
       "0  ENSMUST00000000090     Cox5a   Apical Bias        Red               598   \n",
       "1  ENSMUST00000000312      Cdh1   Apical Bias        Red               598   \n",
       "\n",
       "   Measure Values  \n",
       "0        0.254249  \n",
       "1        1.540903  "
      ]
     },
     "execution_count": 4,
     "metadata": {},
     "output_type": "execute_result"
    }
   ],
   "source": [
    "df.head(2)"
   ]
  },
  {
   "cell_type": "code",
   "execution_count": 5,
   "id": "mental-mineral",
   "metadata": {},
   "outputs": [
    {
     "data": {
      "text/plain": [
       "'df_apical: 406, df_basal: 192'"
      ]
     },
     "execution_count": 5,
     "metadata": {},
     "output_type": "execute_result"
    }
   ],
   "source": [
    "df_apical = df[df['Measure Values'] > 0]\n",
    "df_basal =  df[df['Measure Values'] < 0]\n",
    "f'df_apical: {len(df_apical)}, df_basal: {len(df_basal)}'"
   ]
  },
  {
   "cell_type": "code",
   "execution_count": 8,
   "id": "permanent-stick",
   "metadata": {},
   "outputs": [
    {
     "data": {
      "text/plain": [
       "'CDS: 7784, CDNA: 9858'"
      ]
     },
     "execution_count": 8,
     "metadata": {},
     "output_type": "execute_result"
    }
   ],
   "source": [
    "# Load cdna, cds sequence\n",
    "cdna_file = os.path.join(os.path.abspath(r'../samples'), 's1_cdna.fasta')\n",
    "cds_file = os.path.join(os.path.abspath(r'../samples'), 's1_cds.fasta')\n",
    "cdna_zipfile = os.path.join(os.path.abspath(r'../samples'), 's1_cdna.zip')\n",
    "cds_zipfile = os.path.join(os.path.abspath(r'../samples'), 's1_cds.zip')\n",
    "\n",
    "with ZipFile(cdna_zipfile, 'r') as zip_ref:\n",
    "    zip_ref.extract(os.path.basename(cdna_file),os.path.dirname(cdna_file))\n",
    "\n",
    "with ZipFile(cds_zipfile, 'r') as zip_ref:\n",
    "    zip_ref.extract(os.path.basename(cds_file),os.path.dirname(cds_file))\n",
    "\n",
    "dic_cds = dict()\n",
    "with open(cds_file, \"r\") as fin:\n",
    "    for rec in SeqIO.parse(fin, \"fasta\"):\n",
    "        dic_cds[rec.id] =rec\n",
    "\n",
    "dic_cdna = dict()\n",
    "with open(cdna_file, \"r\") as fin:\n",
    "    for rec in SeqIO.parse(fin, \"fasta\"):\n",
    "        dic_cdna[rec.id] =rec\n",
    "\n",
    "f'CDS: {len(dic_cds)}, CDNA: {len(dic_cdna)}'"
   ]
  },
  {
   "cell_type": "code",
   "execution_count": 37,
   "id": "massive-smart",
   "metadata": {},
   "outputs": [
    {
     "name": "stdout",
     "output_type": "stream",
     "text": [
      "number of highly expressed apical gene with sequence data accessible: 359\n"
     ]
    }
   ],
   "source": [
    "lst_apical_high = df_apical[[x in dic_cds.keys() for x in df_apical['Target ID']]]['Target ID']\n",
    "print(f'number of highly expressed apical gene with sequence data accessible: {len(lst_apical_high)}')"
   ]
  },
  {
   "cell_type": "code",
   "execution_count": 38,
   "id": "chief-james",
   "metadata": {},
   "outputs": [
    {
     "data": {
      "text/plain": [
       "0      ENSMUST00000000090\n",
       "1      ENSMUST00000000312\n",
       "4      ENSMUST00000001963\n",
       "5      ENSMUST00000002091\n",
       "6      ENSMUST00000002303\n",
       "              ...        \n",
       "575    ENSMUST00000201833\n",
       "581    ENSMUST00000203652\n",
       "586    ENSMUST00000204601\n",
       "587    ENSMUST00000204807\n",
       "595    ENSMUST00000208086\n",
       "Name: Target ID, Length: 359, dtype: object"
      ]
     },
     "execution_count": 38,
     "metadata": {},
     "output_type": "execute_result"
    }
   ],
   "source": [
    "lst_apical_high"
   ]
  },
  {
   "cell_type": "code",
   "execution_count": 39,
   "id": "statewide-celebrity",
   "metadata": {},
   "outputs": [
    {
     "name": "stdout",
     "output_type": "stream",
     "text": [
      "number of highly expressed basal gene with sequence data accessible: 103\n"
     ]
    }
   ],
   "source": [
    "lst_basal_high = df_basal[[x in dic_cds.keys() for x in df_basal['Target ID']]]['Target ID']\n",
    "print(f'number of highly expressed basal gene with sequence data accessible: {len(lst_basal_high)}')"
   ]
  },
  {
   "cell_type": "code",
   "execution_count": 47,
   "id": "acting-password",
   "metadata": {},
   "outputs": [],
   "source": [
    "def extract_3utr(lst_target):\n",
    "    mismatch = list()\n",
    "    errfind = list()\n",
    "    dic_extr = dict()\n",
    "    for cdskey in lst_target:\n",
    "        _cds = dic_cds.get(cdskey)\n",
    "        _cdna = dic_cdna.get(cdskey)\n",
    "        start_ix = _cdna.seq.find(_cds.seq)\n",
    "        if start_ix < 0:\n",
    "            mismatch.append((cdskey, start_ix))\n",
    "        else:\n",
    "            _utr3 = _cdna.seq[start_ix + len(_cds.seq):]\n",
    "            # It should be Zero\n",
    "            length_verified = len(_cdna.seq) - start_ix - len(_cds.seq) - len(_utr3)\n",
    "            if length_verified != 0:\n",
    "                errfind.append((cdskey, length_verified))\n",
    "            else:\n",
    "                dic_extr[cdskey] = {'cdna': _cdna, 'cds':_cds, 'utr3':_utr3}\n",
    "    print(f'# mismatch: {len(mismatch)}, # errfind: {len(errfind)}, # extr: {len(dic_extr)}')\n",
    "    \n",
    "    return dic_extr, mismatch, errfind"
   ]
  },
  {
   "cell_type": "code",
   "execution_count": 50,
   "id": "adolescent-count",
   "metadata": {},
   "outputs": [
    {
     "name": "stdout",
     "output_type": "stream",
     "text": [
      "# mismatch: 8, # errfind: 0, # extr: 351\n",
      "# mismatch: 2, # errfind: 0, # extr: 101\n"
     ]
    }
   ],
   "source": [
    "dic_apical, mismatch, errfind = extract_3utr(lst_apical_high)\n",
    "dic_basal, mismatch, errfind = extract_3utr(lst_basal_high)"
   ]
  },
  {
   "cell_type": "code",
   "execution_count": 49,
   "id": "republican-carolina",
   "metadata": {},
   "outputs": [
    {
     "data": {
      "text/plain": [
       "[('ENSMUST00000124121', -1),\n",
       " ('ENSMUST00000135569', -1),\n",
       " ('ENSMUST00000144150', -1),\n",
       " ('ENSMUST00000144529', -1),\n",
       " ('ENSMUST00000173115', -1),\n",
       " ('ENSMUST00000191404', -1),\n",
       " ('ENSMUST00000201833', -1),\n",
       " ('ENSMUST00000208086', -1)]"
      ]
     },
     "execution_count": 49,
     "metadata": {},
     "output_type": "execute_result"
    }
   ],
   "source": []
  },
  {
   "cell_type": "code",
   "execution_count": null,
   "id": "emerging-welsh",
   "metadata": {},
   "outputs": [],
   "source": []
  }
 ],
 "metadata": {
  "kernelspec": {
   "display_name": "Python 3",
   "language": "python",
   "name": "python3"
  },
  "language_info": {
   "codemirror_mode": {
    "name": "ipython",
    "version": 3
   },
   "file_extension": ".py",
   "mimetype": "text/x-python",
   "name": "python",
   "nbconvert_exporter": "python",
   "pygments_lexer": "ipython3",
   "version": "3.8.2"
  }
 },
 "nbformat": 4,
 "nbformat_minor": 5
}
